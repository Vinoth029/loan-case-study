{
 "cells": [
  {
   "cell_type": "code",
   "execution_count": 1,
   "id": "b27bf676",
   "metadata": {},
   "outputs": [],
   "source": [
    "import numpy as np\n",
    "import pandas as pd\n",
    "import matplotlib.pyplot as plt\n",
    "import seaborn as sns\n",
    "%matplotlib inline"
   ]
  },
  {
   "cell_type": "code",
   "execution_count": 2,
   "id": "eedb705f",
   "metadata": {},
   "outputs": [],
   "source": [
    "df = pd.read_csv(r\"C:\\Users\\vinot\\Downloads\\loan\\loan.csv\", low_memory=False)"
   ]
  },
  {
   "cell_type": "code",
   "execution_count": 3,
   "id": "091e5459",
   "metadata": {
    "scrolled": true
   },
   "outputs": [
    {
     "data": {
      "text/html": [
       "<div>\n",
       "<style scoped>\n",
       "    .dataframe tbody tr th:only-of-type {\n",
       "        vertical-align: middle;\n",
       "    }\n",
       "\n",
       "    .dataframe tbody tr th {\n",
       "        vertical-align: top;\n",
       "    }\n",
       "\n",
       "    .dataframe thead th {\n",
       "        text-align: right;\n",
       "    }\n",
       "</style>\n",
       "<table border=\"1\" class=\"dataframe\">\n",
       "  <thead>\n",
       "    <tr style=\"text-align: right;\">\n",
       "      <th></th>\n",
       "      <th>id</th>\n",
       "      <th>member_id</th>\n",
       "      <th>loan_amnt</th>\n",
       "      <th>funded_amnt</th>\n",
       "      <th>funded_amnt_inv</th>\n",
       "      <th>term</th>\n",
       "      <th>int_rate</th>\n",
       "      <th>installment</th>\n",
       "      <th>grade</th>\n",
       "      <th>sub_grade</th>\n",
       "      <th>...</th>\n",
       "      <th>num_tl_90g_dpd_24m</th>\n",
       "      <th>num_tl_op_past_12m</th>\n",
       "      <th>pct_tl_nvr_dlq</th>\n",
       "      <th>percent_bc_gt_75</th>\n",
       "      <th>pub_rec_bankruptcies</th>\n",
       "      <th>tax_liens</th>\n",
       "      <th>tot_hi_cred_lim</th>\n",
       "      <th>total_bal_ex_mort</th>\n",
       "      <th>total_bc_limit</th>\n",
       "      <th>total_il_high_credit_limit</th>\n",
       "    </tr>\n",
       "  </thead>\n",
       "  <tbody>\n",
       "    <tr>\n",
       "      <th>0</th>\n",
       "      <td>1077501</td>\n",
       "      <td>1296599</td>\n",
       "      <td>5000</td>\n",
       "      <td>5000</td>\n",
       "      <td>4975.0</td>\n",
       "      <td>36 months</td>\n",
       "      <td>10.65%</td>\n",
       "      <td>162.87</td>\n",
       "      <td>B</td>\n",
       "      <td>B2</td>\n",
       "      <td>...</td>\n",
       "      <td>NaN</td>\n",
       "      <td>NaN</td>\n",
       "      <td>NaN</td>\n",
       "      <td>NaN</td>\n",
       "      <td>0.0</td>\n",
       "      <td>0.0</td>\n",
       "      <td>NaN</td>\n",
       "      <td>NaN</td>\n",
       "      <td>NaN</td>\n",
       "      <td>NaN</td>\n",
       "    </tr>\n",
       "    <tr>\n",
       "      <th>1</th>\n",
       "      <td>1077430</td>\n",
       "      <td>1314167</td>\n",
       "      <td>2500</td>\n",
       "      <td>2500</td>\n",
       "      <td>2500.0</td>\n",
       "      <td>60 months</td>\n",
       "      <td>15.27%</td>\n",
       "      <td>59.83</td>\n",
       "      <td>C</td>\n",
       "      <td>C4</td>\n",
       "      <td>...</td>\n",
       "      <td>NaN</td>\n",
       "      <td>NaN</td>\n",
       "      <td>NaN</td>\n",
       "      <td>NaN</td>\n",
       "      <td>0.0</td>\n",
       "      <td>0.0</td>\n",
       "      <td>NaN</td>\n",
       "      <td>NaN</td>\n",
       "      <td>NaN</td>\n",
       "      <td>NaN</td>\n",
       "    </tr>\n",
       "    <tr>\n",
       "      <th>2</th>\n",
       "      <td>1077175</td>\n",
       "      <td>1313524</td>\n",
       "      <td>2400</td>\n",
       "      <td>2400</td>\n",
       "      <td>2400.0</td>\n",
       "      <td>36 months</td>\n",
       "      <td>15.96%</td>\n",
       "      <td>84.33</td>\n",
       "      <td>C</td>\n",
       "      <td>C5</td>\n",
       "      <td>...</td>\n",
       "      <td>NaN</td>\n",
       "      <td>NaN</td>\n",
       "      <td>NaN</td>\n",
       "      <td>NaN</td>\n",
       "      <td>0.0</td>\n",
       "      <td>0.0</td>\n",
       "      <td>NaN</td>\n",
       "      <td>NaN</td>\n",
       "      <td>NaN</td>\n",
       "      <td>NaN</td>\n",
       "    </tr>\n",
       "    <tr>\n",
       "      <th>3</th>\n",
       "      <td>1076863</td>\n",
       "      <td>1277178</td>\n",
       "      <td>10000</td>\n",
       "      <td>10000</td>\n",
       "      <td>10000.0</td>\n",
       "      <td>36 months</td>\n",
       "      <td>13.49%</td>\n",
       "      <td>339.31</td>\n",
       "      <td>C</td>\n",
       "      <td>C1</td>\n",
       "      <td>...</td>\n",
       "      <td>NaN</td>\n",
       "      <td>NaN</td>\n",
       "      <td>NaN</td>\n",
       "      <td>NaN</td>\n",
       "      <td>0.0</td>\n",
       "      <td>0.0</td>\n",
       "      <td>NaN</td>\n",
       "      <td>NaN</td>\n",
       "      <td>NaN</td>\n",
       "      <td>NaN</td>\n",
       "    </tr>\n",
       "    <tr>\n",
       "      <th>4</th>\n",
       "      <td>1075358</td>\n",
       "      <td>1311748</td>\n",
       "      <td>3000</td>\n",
       "      <td>3000</td>\n",
       "      <td>3000.0</td>\n",
       "      <td>60 months</td>\n",
       "      <td>12.69%</td>\n",
       "      <td>67.79</td>\n",
       "      <td>B</td>\n",
       "      <td>B5</td>\n",
       "      <td>...</td>\n",
       "      <td>NaN</td>\n",
       "      <td>NaN</td>\n",
       "      <td>NaN</td>\n",
       "      <td>NaN</td>\n",
       "      <td>0.0</td>\n",
       "      <td>0.0</td>\n",
       "      <td>NaN</td>\n",
       "      <td>NaN</td>\n",
       "      <td>NaN</td>\n",
       "      <td>NaN</td>\n",
       "    </tr>\n",
       "  </tbody>\n",
       "</table>\n",
       "<p>5 rows × 111 columns</p>\n",
       "</div>"
      ],
      "text/plain": [
       "        id  member_id  loan_amnt  funded_amnt  funded_amnt_inv        term  \\\n",
       "0  1077501    1296599       5000         5000           4975.0   36 months   \n",
       "1  1077430    1314167       2500         2500           2500.0   60 months   \n",
       "2  1077175    1313524       2400         2400           2400.0   36 months   \n",
       "3  1076863    1277178      10000        10000          10000.0   36 months   \n",
       "4  1075358    1311748       3000         3000           3000.0   60 months   \n",
       "\n",
       "  int_rate  installment grade sub_grade  ... num_tl_90g_dpd_24m  \\\n",
       "0   10.65%       162.87     B        B2  ...                NaN   \n",
       "1   15.27%        59.83     C        C4  ...                NaN   \n",
       "2   15.96%        84.33     C        C5  ...                NaN   \n",
       "3   13.49%       339.31     C        C1  ...                NaN   \n",
       "4   12.69%        67.79     B        B5  ...                NaN   \n",
       "\n",
       "  num_tl_op_past_12m pct_tl_nvr_dlq  percent_bc_gt_75 pub_rec_bankruptcies  \\\n",
       "0                NaN            NaN               NaN                  0.0   \n",
       "1                NaN            NaN               NaN                  0.0   \n",
       "2                NaN            NaN               NaN                  0.0   \n",
       "3                NaN            NaN               NaN                  0.0   \n",
       "4                NaN            NaN               NaN                  0.0   \n",
       "\n",
       "  tax_liens tot_hi_cred_lim total_bal_ex_mort total_bc_limit  \\\n",
       "0       0.0             NaN               NaN            NaN   \n",
       "1       0.0             NaN               NaN            NaN   \n",
       "2       0.0             NaN               NaN            NaN   \n",
       "3       0.0             NaN               NaN            NaN   \n",
       "4       0.0             NaN               NaN            NaN   \n",
       "\n",
       "  total_il_high_credit_limit  \n",
       "0                        NaN  \n",
       "1                        NaN  \n",
       "2                        NaN  \n",
       "3                        NaN  \n",
       "4                        NaN  \n",
       "\n",
       "[5 rows x 111 columns]"
      ]
     },
     "execution_count": 3,
     "metadata": {},
     "output_type": "execute_result"
    }
   ],
   "source": [
    "df.head()"
   ]
  },
  {
   "cell_type": "markdown",
   "id": "c707709b",
   "metadata": {},
   "source": [
    "<h1> <span style=\"font-family:Times New Roman\"> <span style=\"color:Green\"> DATA CLEANING </span> </span> </h1>"
   ]
  },
  {
   "cell_type": "markdown",
   "id": "28975729",
   "metadata": {},
   "source": [
    "<h2> <span style=\"font-family:Times New Roman\"> <span style=\"color:Brown\"> FIXING ROWS AND COLUMNS </span> </span> </h2>"
   ]
  },
  {
   "cell_type": "markdown",
   "id": "7cd14424",
   "metadata": {},
   "source": [
    ">### **Checking the `NaN` count column wise**"
   ]
  },
  {
   "cell_type": "code",
   "execution_count": 4,
   "id": "8f777735",
   "metadata": {},
   "outputs": [
    {
     "data": {
      "text/plain": [
       "id                                    0\n",
       "member_id                             0\n",
       "loan_amnt                             0\n",
       "funded_amnt                           0\n",
       "funded_amnt_inv                       0\n",
       "term                                  0\n",
       "int_rate                              0\n",
       "installment                           0\n",
       "grade                                 0\n",
       "sub_grade                             0\n",
       "emp_title                          2459\n",
       "emp_length                         1075\n",
       "home_ownership                        0\n",
       "annual_inc                            0\n",
       "verification_status                   0\n",
       "issue_d                               0\n",
       "loan_status                           0\n",
       "pymnt_plan                            0\n",
       "url                                   0\n",
       "desc                              12940\n",
       "purpose                               0\n",
       "title                                11\n",
       "zip_code                              0\n",
       "addr_state                            0\n",
       "dti                                   0\n",
       "delinq_2yrs                           0\n",
       "earliest_cr_line                      0\n",
       "inq_last_6mths                        0\n",
       "mths_since_last_delinq            25682\n",
       "mths_since_last_record            36931\n",
       "open_acc                              0\n",
       "pub_rec                               0\n",
       "revol_bal                             0\n",
       "revol_util                           50\n",
       "total_acc                             0\n",
       "initial_list_status                   0\n",
       "out_prncp                             0\n",
       "out_prncp_inv                         0\n",
       "total_pymnt                           0\n",
       "total_pymnt_inv                       0\n",
       "total_rec_prncp                       0\n",
       "total_rec_int                         0\n",
       "total_rec_late_fee                    0\n",
       "recoveries                            0\n",
       "collection_recovery_fee               0\n",
       "last_pymnt_d                         71\n",
       "last_pymnt_amnt                       0\n",
       "next_pymnt_d                      38577\n",
       "last_credit_pull_d                    2\n",
       "collections_12_mths_ex_med           56\n",
       "mths_since_last_major_derog       39717\n",
       "policy_code                           0\n",
       "application_type                      0\n",
       "annual_inc_joint                  39717\n",
       "dti_joint                         39717\n",
       "verification_status_joint         39717\n",
       "acc_now_delinq                        0\n",
       "tot_coll_amt                      39717\n",
       "tot_cur_bal                       39717\n",
       "open_acc_6m                       39717\n",
       "open_il_6m                        39717\n",
       "open_il_12m                       39717\n",
       "open_il_24m                       39717\n",
       "mths_since_rcnt_il                39717\n",
       "total_bal_il                      39717\n",
       "il_util                           39717\n",
       "open_rv_12m                       39717\n",
       "open_rv_24m                       39717\n",
       "max_bal_bc                        39717\n",
       "all_util                          39717\n",
       "total_rev_hi_lim                  39717\n",
       "inq_fi                            39717\n",
       "total_cu_tl                       39717\n",
       "inq_last_12m                      39717\n",
       "acc_open_past_24mths              39717\n",
       "avg_cur_bal                       39717\n",
       "bc_open_to_buy                    39717\n",
       "bc_util                           39717\n",
       "chargeoff_within_12_mths             56\n",
       "delinq_amnt                           0\n",
       "mo_sin_old_il_acct                39717\n",
       "mo_sin_old_rev_tl_op              39717\n",
       "mo_sin_rcnt_rev_tl_op             39717\n",
       "mo_sin_rcnt_tl                    39717\n",
       "mort_acc                          39717\n",
       "mths_since_recent_bc              39717\n",
       "mths_since_recent_bc_dlq          39717\n",
       "mths_since_recent_inq             39717\n",
       "mths_since_recent_revol_delinq    39717\n",
       "num_accts_ever_120_pd             39717\n",
       "num_actv_bc_tl                    39717\n",
       "num_actv_rev_tl                   39717\n",
       "num_bc_sats                       39717\n",
       "num_bc_tl                         39717\n",
       "num_il_tl                         39717\n",
       "num_op_rev_tl                     39717\n",
       "num_rev_accts                     39717\n",
       "num_rev_tl_bal_gt_0               39717\n",
       "num_sats                          39717\n",
       "num_tl_120dpd_2m                  39717\n",
       "num_tl_30dpd                      39717\n",
       "num_tl_90g_dpd_24m                39717\n",
       "num_tl_op_past_12m                39717\n",
       "pct_tl_nvr_dlq                    39717\n",
       "percent_bc_gt_75                  39717\n",
       "pub_rec_bankruptcies                697\n",
       "tax_liens                            39\n",
       "tot_hi_cred_lim                   39717\n",
       "total_bal_ex_mort                 39717\n",
       "total_bc_limit                    39717\n",
       "total_il_high_credit_limit        39717\n",
       "dtype: int64"
      ]
     },
     "execution_count": 4,
     "metadata": {},
     "output_type": "execute_result"
    }
   ],
   "source": [
    "pd.set_option(\"max_rows\", None)\n",
    "df.isna().sum()"
   ]
  },
  {
   "cell_type": "markdown",
   "id": "737a9c3d",
   "metadata": {},
   "source": [
    ">### Dropping all the columns having `NaN` in all of the rows"
   ]
  },
  {
   "cell_type": "code",
   "execution_count": 5,
   "id": "f3a3e24d",
   "metadata": {},
   "outputs": [],
   "source": [
    "df.dropna(axis=1, how=\"all\", inplace=True)"
   ]
  },
  {
   "cell_type": "code",
   "execution_count": 6,
   "id": "1bffd80c",
   "metadata": {},
   "outputs": [
    {
     "data": {
      "text/plain": [
       "id                                0\n",
       "member_id                         0\n",
       "loan_amnt                         0\n",
       "funded_amnt                       0\n",
       "funded_amnt_inv                   0\n",
       "term                              0\n",
       "int_rate                          0\n",
       "installment                       0\n",
       "grade                             0\n",
       "sub_grade                         0\n",
       "emp_title                      2459\n",
       "emp_length                     1075\n",
       "home_ownership                    0\n",
       "annual_inc                        0\n",
       "verification_status               0\n",
       "issue_d                           0\n",
       "loan_status                       0\n",
       "pymnt_plan                        0\n",
       "url                               0\n",
       "desc                          12940\n",
       "purpose                           0\n",
       "title                            11\n",
       "zip_code                          0\n",
       "addr_state                        0\n",
       "dti                               0\n",
       "delinq_2yrs                       0\n",
       "earliest_cr_line                  0\n",
       "inq_last_6mths                    0\n",
       "mths_since_last_delinq        25682\n",
       "mths_since_last_record        36931\n",
       "open_acc                          0\n",
       "pub_rec                           0\n",
       "revol_bal                         0\n",
       "revol_util                       50\n",
       "total_acc                         0\n",
       "initial_list_status               0\n",
       "out_prncp                         0\n",
       "out_prncp_inv                     0\n",
       "total_pymnt                       0\n",
       "total_pymnt_inv                   0\n",
       "total_rec_prncp                   0\n",
       "total_rec_int                     0\n",
       "total_rec_late_fee                0\n",
       "recoveries                        0\n",
       "collection_recovery_fee           0\n",
       "last_pymnt_d                     71\n",
       "last_pymnt_amnt                   0\n",
       "next_pymnt_d                  38577\n",
       "last_credit_pull_d                2\n",
       "collections_12_mths_ex_med       56\n",
       "policy_code                       0\n",
       "application_type                  0\n",
       "acc_now_delinq                    0\n",
       "chargeoff_within_12_mths         56\n",
       "delinq_amnt                       0\n",
       "pub_rec_bankruptcies            697\n",
       "tax_liens                        39\n",
       "dtype: int64"
      ]
     },
     "execution_count": 6,
     "metadata": {},
     "output_type": "execute_result"
    }
   ],
   "source": [
    "df.isna().sum()"
   ]
  },
  {
   "cell_type": "markdown",
   "id": "ac52db2a",
   "metadata": {},
   "source": [
    "<h2> <span style=\"font-family:Times New Roman\"> <span style=\"color:Brown\"> MISSING VALUES </span> </span> </h2>"
   ]
  },
  {
   "cell_type": "markdown",
   "id": "83768e44",
   "metadata": {},
   "source": [
    "### `Dropping the below columns as majority of rows are NaN`\n",
    ">- mths_since_last_delinq\n",
    ">- mths_since_last_record\n",
    ">- next_pymnt_d\n",
    ">- desc\n",
    ">- emp_title"
   ]
  },
  {
   "cell_type": "code",
   "execution_count": 7,
   "id": "dce8b53b",
   "metadata": {},
   "outputs": [],
   "source": [
    "df.drop([\"mths_since_last_delinq\", \"mths_since_last_record\", \"next_pymnt_d\", \"desc\", \"emp_title\"], axis=1, inplace=True)"
   ]
  },
  {
   "cell_type": "code",
   "execution_count": 8,
   "id": "83fcaab3",
   "metadata": {
    "scrolled": true
   },
   "outputs": [
    {
     "data": {
      "text/plain": [
       "Index(['id', 'member_id', 'loan_amnt', 'funded_amnt', 'funded_amnt_inv',\n",
       "       'term', 'int_rate', 'installment', 'grade', 'sub_grade', 'emp_length',\n",
       "       'home_ownership', 'annual_inc', 'verification_status', 'issue_d',\n",
       "       'loan_status', 'pymnt_plan', 'url', 'purpose', 'title', 'zip_code',\n",
       "       'addr_state', 'dti', 'delinq_2yrs', 'earliest_cr_line',\n",
       "       'inq_last_6mths', 'open_acc', 'pub_rec', 'revol_bal', 'revol_util',\n",
       "       'total_acc', 'initial_list_status', 'out_prncp', 'out_prncp_inv',\n",
       "       'total_pymnt', 'total_pymnt_inv', 'total_rec_prncp', 'total_rec_int',\n",
       "       'total_rec_late_fee', 'recoveries', 'collection_recovery_fee',\n",
       "       'last_pymnt_d', 'last_pymnt_amnt', 'last_credit_pull_d',\n",
       "       'collections_12_mths_ex_med', 'policy_code', 'application_type',\n",
       "       'acc_now_delinq', 'chargeoff_within_12_mths', 'delinq_amnt',\n",
       "       'pub_rec_bankruptcies', 'tax_liens'],\n",
       "      dtype='object')"
      ]
     },
     "execution_count": 8,
     "metadata": {},
     "output_type": "execute_result"
    }
   ],
   "source": [
    "pd.set_option(\"max_rows\", 10)\n",
    "df.columns"
   ]
  },
  {
   "cell_type": "markdown",
   "id": "1f568611",
   "metadata": {},
   "source": [
    "<h2> <span style=\"font-family:Times New Roman\"> <span style=\"color:Brown\"> INVALID VALUES </span> </span> </h2>"
   ]
  },
  {
   "cell_type": "markdown",
   "id": "d5b81b58",
   "metadata": {},
   "source": [
    "### `Verifying these records if it makes any sense`\n",
    ">- pymnt_plan\n",
    ">- initial_list_status\n",
    ">- collections_12_mths_ex_med\n",
    ">- policy_code            \n",
    ">- application_type           \n",
    ">- acc_now_delinq         \n",
    ">- chargeoff_within_12_mths   \n",
    ">- delinq_amnt \n",
    ">- tax_liens "
   ]
  },
  {
   "cell_type": "markdown",
   "id": "ffc01a22",
   "metadata": {},
   "source": [
    "<h3 style = \"color : darkblue\"> pymnt_plan </h3>"
   ]
  },
  {
   "cell_type": "code",
   "execution_count": 9,
   "id": "0a2c84ea",
   "metadata": {
    "scrolled": true
   },
   "outputs": [
    {
     "data": {
      "text/plain": [
       "n    39717\n",
       "Name: pymnt_plan, dtype: int64"
      ]
     },
     "execution_count": 9,
     "metadata": {},
     "output_type": "execute_result"
    }
   ],
   "source": [
    "df[\"pymnt_plan\"].value_counts()"
   ]
  },
  {
   "cell_type": "markdown",
   "id": "3871bb4c",
   "metadata": {},
   "source": [
    "<h3 style = \"color : darkblue\"> initial_list_status </h3>"
   ]
  },
  {
   "cell_type": "code",
   "execution_count": 10,
   "id": "4c4e296c",
   "metadata": {},
   "outputs": [
    {
     "data": {
      "text/plain": [
       "f    39717\n",
       "Name: initial_list_status, dtype: int64"
      ]
     },
     "execution_count": 10,
     "metadata": {},
     "output_type": "execute_result"
    }
   ],
   "source": [
    "df[\"initial_list_status\"].value_counts()"
   ]
  },
  {
   "cell_type": "markdown",
   "id": "196210f3",
   "metadata": {},
   "source": [
    "<h3 style = \"color : darkblue\"> collections_12_mths_ex_med </h3>"
   ]
  },
  {
   "cell_type": "code",
   "execution_count": 11,
   "id": "ea6db71a",
   "metadata": {},
   "outputs": [
    {
     "data": {
      "text/plain": [
       "0.0    39661\n",
       "Name: collections_12_mths_ex_med, dtype: int64"
      ]
     },
     "execution_count": 11,
     "metadata": {},
     "output_type": "execute_result"
    }
   ],
   "source": [
    "df[\"collections_12_mths_ex_med\"].value_counts()"
   ]
  },
  {
   "cell_type": "markdown",
   "id": "d9e27e64",
   "metadata": {},
   "source": [
    "<h3 style = \"color : darkblue\"> policy_code </h3>"
   ]
  },
  {
   "cell_type": "code",
   "execution_count": 12,
   "id": "e8c64caf",
   "metadata": {},
   "outputs": [
    {
     "data": {
      "text/plain": [
       "1    39717\n",
       "Name: policy_code, dtype: int64"
      ]
     },
     "execution_count": 12,
     "metadata": {},
     "output_type": "execute_result"
    }
   ],
   "source": [
    "df[\"policy_code\"].value_counts()"
   ]
  },
  {
   "cell_type": "markdown",
   "id": "8ed073d2",
   "metadata": {},
   "source": [
    "<h3 style = \"color : darkblue\"> application_type </h3>"
   ]
  },
  {
   "cell_type": "code",
   "execution_count": 13,
   "id": "f9c64e80",
   "metadata": {},
   "outputs": [
    {
     "data": {
      "text/plain": [
       "INDIVIDUAL    39717\n",
       "Name: application_type, dtype: int64"
      ]
     },
     "execution_count": 13,
     "metadata": {},
     "output_type": "execute_result"
    }
   ],
   "source": [
    "df[\"application_type\"].value_counts()"
   ]
  },
  {
   "cell_type": "markdown",
   "id": "dfd93bf4",
   "metadata": {},
   "source": [
    "<h3 style = \"color : darkblue\"> acc_now_delinq </h3>"
   ]
  },
  {
   "cell_type": "code",
   "execution_count": 14,
   "id": "4ccc9b9d",
   "metadata": {},
   "outputs": [
    {
     "data": {
      "text/plain": [
       "0    39717\n",
       "Name: acc_now_delinq, dtype: int64"
      ]
     },
     "execution_count": 14,
     "metadata": {},
     "output_type": "execute_result"
    }
   ],
   "source": [
    "df[\"acc_now_delinq\"].value_counts()"
   ]
  },
  {
   "cell_type": "markdown",
   "id": "3fce3a15",
   "metadata": {},
   "source": [
    "<h3 style = \"color : darkblue\"> chargeoff_within_12_mths </h3>"
   ]
  },
  {
   "cell_type": "code",
   "execution_count": 15,
   "id": "5c29ec11",
   "metadata": {},
   "outputs": [
    {
     "data": {
      "text/plain": [
       "0.0    39661\n",
       "Name: chargeoff_within_12_mths, dtype: int64"
      ]
     },
     "execution_count": 15,
     "metadata": {},
     "output_type": "execute_result"
    }
   ],
   "source": [
    "df[\"chargeoff_within_12_mths\"].value_counts()"
   ]
  },
  {
   "cell_type": "markdown",
   "id": "7eb86c3e",
   "metadata": {},
   "source": [
    "<h3 style = \"color : darkblue\"> delinq_amnt </h3>"
   ]
  },
  {
   "cell_type": "code",
   "execution_count": 16,
   "id": "7ecce2e8",
   "metadata": {},
   "outputs": [
    {
     "data": {
      "text/plain": [
       "0    39717\n",
       "Name: delinq_amnt, dtype: int64"
      ]
     },
     "execution_count": 16,
     "metadata": {},
     "output_type": "execute_result"
    }
   ],
   "source": [
    "df[\"delinq_amnt\"].value_counts()"
   ]
  },
  {
   "cell_type": "markdown",
   "id": "d0aa6ddc",
   "metadata": {},
   "source": [
    "<h3 style = \"color : darkblue\"> tax_liens </h3>"
   ]
  },
  {
   "cell_type": "code",
   "execution_count": 17,
   "id": "d3b016ea",
   "metadata": {},
   "outputs": [
    {
     "data": {
      "text/plain": [
       "0.0    39678\n",
       "Name: tax_liens, dtype: int64"
      ]
     },
     "execution_count": 17,
     "metadata": {},
     "output_type": "execute_result"
    }
   ],
   "source": [
    "df[\"tax_liens\"].value_counts()"
   ]
  },
  {
   "cell_type": "markdown",
   "id": "9810b6ca",
   "metadata": {},
   "source": [
    "### `Dropping all the above records as it makes no sense`"
   ]
  },
  {
   "cell_type": "code",
   "execution_count": 18,
   "id": "5db0e1e9",
   "metadata": {},
   "outputs": [],
   "source": [
    "df.drop(df.loc[:, \"collections_12_mths_ex_med\": \"delinq_amnt\"].columns, axis=1, inplace=True)\n",
    "df.drop([\"pymnt_plan\", \"initial_list_status\", \"tax_liens\"], axis=1, inplace=True)"
   ]
  },
  {
   "cell_type": "code",
   "execution_count": 19,
   "id": "760355da",
   "metadata": {
    "scrolled": false
   },
   "outputs": [
    {
     "data": {
      "text/plain": [
       "Index(['id', 'member_id', 'loan_amnt', 'funded_amnt', 'funded_amnt_inv',\n",
       "       'term', 'int_rate', 'installment', 'grade', 'sub_grade', 'emp_length',\n",
       "       'home_ownership', 'annual_inc', 'verification_status', 'issue_d',\n",
       "       'loan_status', 'url', 'purpose', 'title', 'zip_code', 'addr_state',\n",
       "       'dti', 'delinq_2yrs', 'earliest_cr_line', 'inq_last_6mths', 'open_acc',\n",
       "       'pub_rec', 'revol_bal', 'revol_util', 'total_acc', 'out_prncp',\n",
       "       'out_prncp_inv', 'total_pymnt', 'total_pymnt_inv', 'total_rec_prncp',\n",
       "       'total_rec_int', 'total_rec_late_fee', 'recoveries',\n",
       "       'collection_recovery_fee', 'last_pymnt_d', 'last_pymnt_amnt',\n",
       "       'last_credit_pull_d', 'pub_rec_bankruptcies'],\n",
       "      dtype='object')"
      ]
     },
     "execution_count": 19,
     "metadata": {},
     "output_type": "execute_result"
    }
   ],
   "source": [
    "df.columns"
   ]
  },
  {
   "cell_type": "markdown",
   "id": "a349a77b",
   "metadata": {},
   "source": [
    "<h2> <span style=\"font-family:Times New Roman\"> <span style=\"color:Brown\"> FILTERING DATA </span> </span> </h2>"
   ]
  },
  {
   "cell_type": "markdown",
   "id": "8dc3e12e",
   "metadata": {},
   "source": [
    "### `By reading the metadate, These below columns seems not needed`\n",
    ">- id   \n",
    ">- member_id \n",
    ">- url \n",
    ">- title \n",
    ">- zip_code \n",
    ">- earliest_cr_line"
   ]
  },
  {
   "cell_type": "markdown",
   "id": "56c14e29",
   "metadata": {},
   "source": [
    "<h3 style = \"color : darkblue\"> id </h3>"
   ]
  },
  {
   "cell_type": "code",
   "execution_count": 20,
   "id": "087961ba",
   "metadata": {},
   "outputs": [
    {
     "data": {
      "text/plain": [
       "1077501    1\n",
       "568534     1\n",
       "568659     1\n",
       "567165     1\n",
       "568531     1\n",
       "          ..\n",
       "785667     1\n",
       "785659     1\n",
       "785630     1\n",
       "785626     1\n",
       "87023      1\n",
       "Name: id, Length: 39717, dtype: int64"
      ]
     },
     "execution_count": 20,
     "metadata": {},
     "output_type": "execute_result"
    }
   ],
   "source": [
    "df[\"id\"].value_counts()"
   ]
  },
  {
   "cell_type": "markdown",
   "id": "51d5b84a",
   "metadata": {},
   "source": [
    "<h3 style = \"color : darkblue\"> member_id </h3>"
   ]
  },
  {
   "cell_type": "code",
   "execution_count": 21,
   "id": "9aa3c8f3",
   "metadata": {},
   "outputs": [
    {
     "data": {
      "text/plain": [
       "1296599    1\n",
       "731393     1\n",
       "731544     1\n",
       "729629     1\n",
       "731390     1\n",
       "          ..\n",
       "989001     1\n",
       "988993     1\n",
       "988959     1\n",
       "988954     1\n",
       "86999      1\n",
       "Name: member_id, Length: 39717, dtype: int64"
      ]
     },
     "execution_count": 21,
     "metadata": {},
     "output_type": "execute_result"
    }
   ],
   "source": [
    "df[\"member_id\"].value_counts()"
   ]
  },
  {
   "cell_type": "markdown",
   "id": "25d5730f",
   "metadata": {},
   "source": [
    "<h3 style = \"color : darkblue\"> url </h3>"
   ]
  },
  {
   "cell_type": "code",
   "execution_count": 22,
   "id": "570e4dfb",
   "metadata": {},
   "outputs": [
    {
     "data": {
      "text/plain": [
       "https://lendingclub.com/browse/loanDetail.action?loan_id=1077501    1\n",
       "https://lendingclub.com/browse/loanDetail.action?loan_id=568534     1\n",
       "https://lendingclub.com/browse/loanDetail.action?loan_id=568659     1\n",
       "https://lendingclub.com/browse/loanDetail.action?loan_id=567165     1\n",
       "https://lendingclub.com/browse/loanDetail.action?loan_id=568531     1\n",
       "                                                                   ..\n",
       "https://lendingclub.com/browse/loanDetail.action?loan_id=785667     1\n",
       "https://lendingclub.com/browse/loanDetail.action?loan_id=785659     1\n",
       "https://lendingclub.com/browse/loanDetail.action?loan_id=785630     1\n",
       "https://lendingclub.com/browse/loanDetail.action?loan_id=785626     1\n",
       "https://lendingclub.com/browse/loanDetail.action?loan_id=87023      1\n",
       "Name: url, Length: 39717, dtype: int64"
      ]
     },
     "execution_count": 22,
     "metadata": {},
     "output_type": "execute_result"
    }
   ],
   "source": [
    "df[\"url\"].value_counts()"
   ]
  },
  {
   "cell_type": "markdown",
   "id": "22f43a8d",
   "metadata": {},
   "source": [
    "<h3 style = \"color : darkblue\"> title </h3>"
   ]
  },
  {
   "cell_type": "code",
   "execution_count": 23,
   "id": "d53b6280",
   "metadata": {},
   "outputs": [
    {
     "data": {
      "text/plain": [
       "Debt Consolidation                  2184\n",
       "Debt Consolidation Loan             1729\n",
       "Personal Loan                        659\n",
       "Consolidation                        517\n",
       "debt consolidation                   505\n",
       "                                    ... \n",
       "your rate is better than my rate       1\n",
       "Concession Trailer                     1\n",
       "gregs                                  1\n",
       "EZover                                 1\n",
       "JAL Loan                               1\n",
       "Name: title, Length: 19615, dtype: int64"
      ]
     },
     "execution_count": 23,
     "metadata": {},
     "output_type": "execute_result"
    }
   ],
   "source": [
    "df[\"title\"].value_counts()"
   ]
  },
  {
   "cell_type": "markdown",
   "id": "dbb2e235",
   "metadata": {},
   "source": [
    "<h3 style = \"color : darkblue\"> zip_code </h3>"
   ]
  },
  {
   "cell_type": "code",
   "execution_count": 24,
   "id": "24d77313",
   "metadata": {},
   "outputs": [
    {
     "data": {
      "text/plain": [
       "100xx    597\n",
       "945xx    545\n",
       "112xx    516\n",
       "606xx    503\n",
       "070xx    473\n",
       "        ... \n",
       "381xx      1\n",
       "378xx      1\n",
       "739xx      1\n",
       "396xx      1\n",
       "469xx      1\n",
       "Name: zip_code, Length: 823, dtype: int64"
      ]
     },
     "execution_count": 24,
     "metadata": {},
     "output_type": "execute_result"
    }
   ],
   "source": [
    "df[\"zip_code\"].value_counts()"
   ]
  },
  {
   "cell_type": "markdown",
   "id": "a366e794",
   "metadata": {},
   "source": [
    "<h3 style = \"color : darkblue\"> earliest_cr_line </h3>"
   ]
  },
  {
   "cell_type": "code",
   "execution_count": 25,
   "id": "60c0aaf8",
   "metadata": {},
   "outputs": [
    {
     "data": {
      "text/plain": [
       "Nov-98    370\n",
       "Oct-99    366\n",
       "Dec-98    348\n",
       "Oct-00    346\n",
       "Dec-97    329\n",
       "         ... \n",
       "Feb-66      1\n",
       "Dec-61      1\n",
       "Oct-54      1\n",
       "Jun-72      1\n",
       "Oct-74      1\n",
       "Name: earliest_cr_line, Length: 526, dtype: int64"
      ]
     },
     "execution_count": 25,
     "metadata": {},
     "output_type": "execute_result"
    }
   ],
   "source": [
    "df[\"earliest_cr_line\"].value_counts()"
   ]
  },
  {
   "cell_type": "markdown",
   "id": "ea9b75dc",
   "metadata": {},
   "source": [
    "### `Dropping all the above records as we don't need these for our analysis`"
   ]
  },
  {
   "cell_type": "code",
   "execution_count": 26,
   "id": "57d5473e",
   "metadata": {},
   "outputs": [],
   "source": [
    "df.drop([\"id\", \"member_id\", \"url\"], axis=1, inplace=True)\n",
    "df.drop([\"title\", \"zip_code\", \"earliest_cr_line\"], axis=1, inplace=True)"
   ]
  },
  {
   "cell_type": "markdown",
   "id": "817ddb27",
   "metadata": {},
   "source": [
    "<h2> <span style=\"font-family:Times New Roman\"> <span style=\"color:Brown\"> STANDARDISING VALUES </span> </span> </h2>"
   ]
  },
  {
   "cell_type": "code",
   "execution_count": 27,
   "id": "ab07d2fa",
   "metadata": {
    "scrolled": true
   },
   "outputs": [
    {
     "data": {
      "text/plain": [
       "loan_amnt                    int64\n",
       "funded_amnt                  int64\n",
       "funded_amnt_inv            float64\n",
       "term                        object\n",
       "int_rate                    object\n",
       "installment                float64\n",
       "grade                       object\n",
       "sub_grade                   object\n",
       "emp_length                  object\n",
       "home_ownership              object\n",
       "annual_inc                 float64\n",
       "verification_status         object\n",
       "issue_d                     object\n",
       "loan_status                 object\n",
       "purpose                     object\n",
       "addr_state                  object\n",
       "dti                        float64\n",
       "delinq_2yrs                  int64\n",
       "inq_last_6mths               int64\n",
       "open_acc                     int64\n",
       "pub_rec                      int64\n",
       "revol_bal                    int64\n",
       "revol_util                  object\n",
       "total_acc                    int64\n",
       "out_prncp                  float64\n",
       "out_prncp_inv              float64\n",
       "total_pymnt                float64\n",
       "total_pymnt_inv            float64\n",
       "total_rec_prncp            float64\n",
       "total_rec_int              float64\n",
       "total_rec_late_fee         float64\n",
       "recoveries                 float64\n",
       "collection_recovery_fee    float64\n",
       "last_pymnt_d                object\n",
       "last_pymnt_amnt            float64\n",
       "last_credit_pull_d          object\n",
       "pub_rec_bankruptcies       float64\n",
       "dtype: object"
      ]
     },
     "execution_count": 27,
     "metadata": {},
     "output_type": "execute_result"
    }
   ],
   "source": [
    "pd.set_option(\"max_rows\", None)\n",
    "df.dtypes"
   ]
  },
  {
   "cell_type": "markdown",
   "id": "389ec2de",
   "metadata": {},
   "source": [
    "<h3 style = \"color : darkblue\"> int_rate </h3>"
   ]
  },
  {
   "cell_type": "code",
   "execution_count": 28,
   "id": "e62cfeca",
   "metadata": {},
   "outputs": [
    {
     "data": {
      "text/plain": [
       "dtype('O')"
      ]
     },
     "execution_count": 28,
     "metadata": {},
     "output_type": "execute_result"
    }
   ],
   "source": [
    "df[\"int_rate\"].dtype"
   ]
  },
  {
   "cell_type": "code",
   "execution_count": 29,
   "id": "10a3cbc5",
   "metadata": {},
   "outputs": [
    {
     "data": {
      "text/plain": [
       "0    10.65%\n",
       "1    15.27%\n",
       "2    15.96%\n",
       "3    13.49%\n",
       "4    12.69%\n",
       "Name: int_rate, dtype: object"
      ]
     },
     "execution_count": 29,
     "metadata": {},
     "output_type": "execute_result"
    }
   ],
   "source": [
    "df[\"int_rate\"].head()"
   ]
  },
  {
   "cell_type": "code",
   "execution_count": 30,
   "id": "adc1fb70",
   "metadata": {},
   "outputs": [],
   "source": [
    "df[\"int_rate\"] = df[\"int_rate\"].apply(lambda x: float(x.replace(\"%\", \"\"))) "
   ]
  },
  {
   "cell_type": "code",
   "execution_count": 31,
   "id": "6e4b1cf7",
   "metadata": {},
   "outputs": [
    {
     "data": {
      "text/plain": [
       "dtype('float64')"
      ]
     },
     "execution_count": 31,
     "metadata": {},
     "output_type": "execute_result"
    }
   ],
   "source": [
    "df[\"int_rate\"].dtype"
   ]
  },
  {
   "cell_type": "markdown",
   "id": "04e53d5b",
   "metadata": {},
   "source": [
    "<h3 style = \"color : darkblue\"> emp_length </h3>"
   ]
  },
  {
   "cell_type": "code",
   "execution_count": 32,
   "id": "4aef535f",
   "metadata": {
    "scrolled": true
   },
   "outputs": [
    {
     "data": {
      "text/plain": [
       "0    10+ years\n",
       "1     < 1 year\n",
       "2    10+ years\n",
       "3    10+ years\n",
       "4       1 year\n",
       "Name: emp_length, dtype: object"
      ]
     },
     "execution_count": 32,
     "metadata": {},
     "output_type": "execute_result"
    }
   ],
   "source": [
    "df[\"emp_length\"].head()"
   ]
  },
  {
   "cell_type": "code",
   "execution_count": 33,
   "id": "fff9566f",
   "metadata": {},
   "outputs": [
    {
     "data": {
      "text/plain": [
       "1075"
      ]
     },
     "execution_count": 33,
     "metadata": {},
     "output_type": "execute_result"
    }
   ],
   "source": [
    "df[\"emp_length\"].isna().sum()"
   ]
  },
  {
   "cell_type": "code",
   "execution_count": 34,
   "id": "9979dc0b",
   "metadata": {},
   "outputs": [],
   "source": [
    "df[\"emp_length\"] = df[\"emp_length\"].fillna(0)"
   ]
  },
  {
   "cell_type": "code",
   "execution_count": 35,
   "id": "89b643e7",
   "metadata": {},
   "outputs": [
    {
     "data": {
      "text/plain": [
       "0"
      ]
     },
     "execution_count": 35,
     "metadata": {},
     "output_type": "execute_result"
    }
   ],
   "source": [
    "df[\"emp_length\"].isna().sum()"
   ]
  },
  {
   "cell_type": "code",
   "execution_count": 36,
   "id": "dc1e0ed1",
   "metadata": {},
   "outputs": [],
   "source": [
    "df[\"emp_length\"] = df[\"emp_length\"].astype(str).apply(lambda x: x.strip(' +<years'))"
   ]
  },
  {
   "cell_type": "code",
   "execution_count": 37,
   "id": "462c71c2",
   "metadata": {},
   "outputs": [
    {
     "data": {
      "text/plain": [
       "dtype('O')"
      ]
     },
     "execution_count": 37,
     "metadata": {},
     "output_type": "execute_result"
    }
   ],
   "source": [
    "df[\"emp_length\"].dtype"
   ]
  },
  {
   "cell_type": "code",
   "execution_count": 38,
   "id": "337834f8",
   "metadata": {},
   "outputs": [],
   "source": [
    "df[\"emp_length\"] = df[\"emp_length\"].astype(int)"
   ]
  },
  {
   "cell_type": "code",
   "execution_count": 39,
   "id": "04e0cc4b",
   "metadata": {},
   "outputs": [
    {
     "data": {
      "text/plain": [
       "dtype('int32')"
      ]
     },
     "execution_count": 39,
     "metadata": {},
     "output_type": "execute_result"
    }
   ],
   "source": [
    "df[\"emp_length\"].dtype"
   ]
  },
  {
   "cell_type": "markdown",
   "id": "db0e88fa",
   "metadata": {},
   "source": [
    "<h3 style = \"color : darkblue\"> verification_status </h3>"
   ]
  },
  {
   "cell_type": "code",
   "execution_count": 40,
   "id": "3f51bf7c",
   "metadata": {},
   "outputs": [
    {
     "data": {
      "text/plain": [
       "Not Verified       16921\n",
       "Verified           12809\n",
       "Source Verified     9987\n",
       "Name: verification_status, dtype: int64"
      ]
     },
     "execution_count": 40,
     "metadata": {},
     "output_type": "execute_result"
    }
   ],
   "source": [
    "df[\"verification_status\"].value_counts(ascending=False)"
   ]
  },
  {
   "cell_type": "code",
   "execution_count": 41,
   "id": "697f2271",
   "metadata": {},
   "outputs": [],
   "source": [
    "df[\"verification_status\"] = df[\"verification_status\"].apply(lambda x: \"Verified\" if x==\"Source Verified\" else x)"
   ]
  },
  {
   "cell_type": "code",
   "execution_count": 42,
   "id": "c12068c3",
   "metadata": {},
   "outputs": [
    {
     "data": {
      "text/plain": [
       "Verified        22796\n",
       "Not Verified    16921\n",
       "Name: verification_status, dtype: int64"
      ]
     },
     "execution_count": 42,
     "metadata": {},
     "output_type": "execute_result"
    }
   ],
   "source": [
    "df[\"verification_status\"].value_counts(ascending=False)"
   ]
  },
  {
   "cell_type": "markdown",
   "id": "10f975b2",
   "metadata": {},
   "source": [
    "<h1> <span style=\"font-family:Times New Roman\"> <span style=\"color:Green\"> UNIVARIATE ANALYSIS </span> </span> </h1>"
   ]
  },
  {
   "cell_type": "markdown",
   "id": "1a34e277",
   "metadata": {},
   "source": [
    "<h2> <span style=\"font-family:Times New Roman\"> <span style=\"color:Brown\"> UNORDERED CATEGORICAL VARIABLES </span> </span> </h2>"
   ]
  },
  {
   "cell_type": "markdown",
   "id": "fe9d7bbf",
   "metadata": {},
   "source": [
    "<h3 style = \"color : darkblue\"> home_ownership </h3>"
   ]
  },
  {
   "cell_type": "code",
   "execution_count": 43,
   "id": "a795c631",
   "metadata": {},
   "outputs": [
    {
     "data": {
      "text/plain": [
       "RENT        18899\n",
       "MORTGAGE    17659\n",
       "OWN          3058\n",
       "OTHER          98\n",
       "NONE            3\n",
       "Name: home_ownership, dtype: int64"
      ]
     },
     "execution_count": 43,
     "metadata": {},
     "output_type": "execute_result"
    }
   ],
   "source": [
    "df[\"home_ownership\"].value_counts(ascending=False)"
   ]
  },
  {
   "cell_type": "code",
   "execution_count": 44,
   "id": "c1923d4f",
   "metadata": {},
   "outputs": [],
   "source": [
    "x_axis = df[\"home_ownership\"].value_counts(ascending=False).keys()"
   ]
  },
  {
   "cell_type": "code",
   "execution_count": 45,
   "id": "782b5a7c",
   "metadata": {},
   "outputs": [],
   "source": [
    "y_axis = df[\"home_ownership\"].value_counts(ascending=False).values"
   ]
  },
  {
   "cell_type": "code",
   "execution_count": 46,
   "id": "1f695d17",
   "metadata": {},
   "outputs": [],
   "source": [
    "colors = [\"teal\", \"lime\", \"goldenrod\", \"steelblue\", \"gold\" ]\n",
    "font_settings_title = {\"fontsize\":20, \"fontweight\":5, \"color\":\"indigo\"}\n",
    "font_settings_axis = {\"fontsize\":20, \"fontweight\":5, \"color\":\"black\"}\n",
    "ticks = [10,100,1000,10000]\n",
    "labels = ticks"
   ]
  },
  {
   "cell_type": "code",
   "execution_count": 47,
   "id": "473d7c54",
   "metadata": {},
   "outputs": [
    {
     "data": {
      "image/png": "[encoded data removed]",
      "text/plain": [
       "<Figure size 432x288 with 1 Axes>"
      ]
     },
     "metadata": {
      "needs_background": "light"
     },
     "output_type": "display_data"
    }
   ],
   "source": [
    "plt.bar(x_axis, y_axis, width=0.5, align=\"center\", edgecolor=\"black\", log=True, color=colors)\n",
    "plt.title(\"House ownership of loan barrower's\\n\", fontdict=font_settings_title)\n",
    "plt.xlabel(\"House ownership\", fontdict=font_settings_axis)\n",
    "plt.ylabel(\"Frequency\", fontdict=font_settings_axis)\n",
    "plt.yticks(ticks, labels)\n",
    "plt.tight_layout()\n",
    "plt.show()"
   ]
  },
  {
   "attachments": {},
   "cell_type": "markdown",
   "id": "988eda03",
   "metadata": {},
   "source": [
    "<h3 style = \"color : darkblue\"> verification_status </h3>"
   ]
  },
  {
   "cell_type": "code",
   "execution_count": 48,
   "id": "2fe7ef03",
   "metadata": {
    "scrolled": true
   },
   "outputs": [
    {
     "data": {
      "text/plain": [
       "Verified        22796\n",
       "Not Verified    16921\n",
       "Name: verification_status, dtype: int64"
      ]
     },
     "execution_count": 48,
     "metadata": {},
     "output_type": "execute_result"
    }
   ],
   "source": [
    "df[\"verification_status\"].value_counts(ascending=False)"
   ]
  },
  {
   "cell_type": "code",
   "execution_count": 49,
   "id": "2b984689",
   "metadata": {},
   "outputs": [],
   "source": [
    "slices = df[\"verification_status\"].value_counts(ascending=False)\n",
    "colors_pie = [\"#e5ae37\", \"#6d904f\"]\n",
    "labels = df[\"verification_status\"].value_counts(ascending=False).keys()"
   ]
  },
  {
   "cell_type": "code",
   "execution_count": 50,
   "id": "fa1d0f55",
   "metadata": {},
   "outputs": [
    {
     "data": {
      "image/png": "[encoded data removed]",
      "text/plain": [
       "<Figure size 432x288 with 1 Axes>"
      ]
     },
     "metadata": {},
     "output_type": "display_data"
    }
   ],
   "source": [
    "plt.pie(slices, wedgeprops={'edgecolor':'black'}, colors=colors_pie, labels=labels, autopct=\"%1.1f%%\", shadow=True)\n",
    "plt.title(\"Barrower's income source\", fontdict=font_settings_title)\n",
    "plt.tight_layout()\n",
    "plt.show()"
   ]
  },
  {
   "attachments": {},
   "cell_type": "markdown",
   "id": "4aeb2f3c",
   "metadata": {},
   "source": [
    "<h3 style = \"color : darkblue\"> loan_status </h3>"
   ]
  },
  {
   "cell_type": "code",
   "execution_count": 51,
   "id": "554020c6",
   "metadata": {
    "scrolled": true
   },
   "outputs": [
    {
     "data": {
      "text/plain": [
       "Fully Paid     32950\n",
       "Charged Off     5627\n",
       "Current         1140\n",
       "Name: loan_status, dtype: int64"
      ]
     },
     "execution_count": 51,
     "metadata": {},
     "output_type": "execute_result"
    }
   ],
   "source": [
    "df[\"loan_status\"].value_counts()"
   ]
  },
  {
   "cell_type": "code",
   "execution_count": 52,
   "id": "f380b7d4",
   "metadata": {},
   "outputs": [],
   "source": [
    "x_axis = df[\"loan_status\"].value_counts().keys()"
   ]
  },
  {
   "cell_type": "code",
   "execution_count": 53,
   "id": "3433e94c",
   "metadata": {},
   "outputs": [],
   "source": [
    "y_axis = df[\"loan_status\"].value_counts().values"
   ]
  },
  {
   "cell_type": "code",
   "execution_count": 54,
   "id": "d92b43e4",
   "metadata": {},
   "outputs": [],
   "source": [
    "colors = [\"#6d904f\", \"#fc4f30\", \"#e5ae37\"]\n",
    "ticks = [10,100,1000,10000, 100000]\n",
    "labels = ticks"
   ]
  },
  {
   "cell_type": "code",
   "execution_count": 55,
   "id": "79193ff2",
   "metadata": {},
   "outputs": [
    {
     "data": {
      "image/png": "[encoded data removed]",
      "text/plain": [
       "<Figure size 432x288 with 1 Axes>"
      ]
     },
     "metadata": {
      "needs_background": "light"
     },
     "output_type": "display_data"
    }
   ],
   "source": [
    "plt.bar(x_axis, y_axis, width=0.3, align=\"center\", edgecolor=\"black\", color=colors, log=True)\n",
    "plt.title(\"Loan Status\\n\", fontdict=font_settings_title)\n",
    "plt.xlabel(\"Status\", fontdict=font_settings_axis)\n",
    "plt.ylabel(\"Frequency\", fontdict=font_settings_axis)\n",
    "plt.yticks(ticks, labels)\n",
    "plt.axhline(y_axis[0], color=\"green\", linewidth=1)\n",
    "plt.axhline(y_axis[1], color=\"red\", linewidth=1)\n",
    "plt.axhline(y_axis[2], color=\"gold\", linewidth=1)\n",
    "plt.tight_layout()\n",
    "plt.show()"
   ]
  },
  {
   "cell_type": "markdown",
   "id": "21cd39fc",
   "metadata": {},
   "source": [
    "<h3 style = \"color : darkblue\"> purpose </h3>"
   ]
  },
  {
   "cell_type": "code",
   "execution_count": 59,
   "id": "0ff50980",
   "metadata": {
    "scrolled": false
   },
   "outputs": [
    {
     "data": {
      "text/plain": [
       "debt_consolidation    18641\n",
       "credit_card            5130\n",
       "other                  3993\n",
       "home_improvement       2976\n",
       "major_purchase         2187\n",
       "small_business         1828\n",
       "car                    1549\n",
       "wedding                 947\n",
       "medical                 693\n",
       "moving                  583\n",
       "vacation                381\n",
       "house                   381\n",
       "educational             325\n",
       "renewable_energy        103\n",
       "Name: purpose, dtype: int64"
      ]
     },
     "execution_count": 59,
     "metadata": {},
     "output_type": "execute_result"
    }
   ],
   "source": [
    "df[\"purpose\"].value_counts()"
   ]
  },
  {
   "cell_type": "code",
   "execution_count": 69,
   "id": "1361ded0",
   "metadata": {},
   "outputs": [],
   "source": [
    "x_axis = df[\"purpose\"].value_counts().keys()\n",
    "y_axis = df[\"purpose\"].value_counts().values\n",
    "ticks = [10,100,1000,10000, 100000]\n",
    "labels = [\"10\", \"100\", \"1K\", \"10K\", \"100K\"]"
   ]
  },
  {
   "cell_type": "code",
   "execution_count": 71,
   "id": "2c4a6605",
   "metadata": {},
   "outputs": [
    {
     "data": {
      "text/plain": [
       "['Solarize_Light2',\n",
       " '_classic_test_patch',\n",
       " 'bmh',\n",
       " 'classic',\n",
       " 'dark_background',\n",
       " 'fast',\n",
       " 'fivethirtyeight',\n",
       " 'ggplot',\n",
       " 'grayscale',\n",
       " 'seaborn',\n",
       " 'seaborn-bright',\n",
       " 'seaborn-colorblind',\n",
       " 'seaborn-dark',\n",
       " 'seaborn-dark-palette',\n",
       " 'seaborn-darkgrid',\n",
       " 'seaborn-deep',\n",
       " 'seaborn-muted',\n",
       " 'seaborn-notebook',\n",
       " 'seaborn-paper',\n",
       " 'seaborn-pastel',\n",
       " 'seaborn-poster',\n",
       " 'seaborn-talk',\n",
       " 'seaborn-ticks',\n",
       " 'seaborn-white',\n",
       " 'seaborn-whitegrid',\n",
       " 'tableau-colorblind10']"
      ]
     },
     "execution_count": 71,
     "metadata": {},
     "output_type": "execute_result"
    }
   ],
   "source": [
    "plt.style.available"
   ]
  },
  {
   "cell_type": "code",
   "execution_count": 79,
   "id": "a730882f",
   "metadata": {},
   "outputs": [
    {
     "data": {
      "image/png": "[encoded data removed]",
      "text/plain": [
       "<Figure size 640x480 with 1 Axes>"
      ]
     },
     "metadata": {},
     "output_type": "display_data"
    }
   ],
   "source": [
    "plt.style.use(\"Solarize_Light2\")\n",
    "plt.bar(x_axis, y_axis, width=0.3, align=\"center\", edgecolor=\"black\", log=True)\n",
    "plt.title(\"Loan Purpose\\n\", fontdict=font_settings_title)\n",
    "plt.xlabel(\"Reason\", fontdict=font_settings_axis)\n",
    "plt.ylabel(\"Frequency\", fontdict=font_settings_axis)\n",
    "plt.xticks(rotation=90)\n",
    "plt.yticks(ticks, labels)\n",
    "plt.tight_layout()\n",
    "plt.show()"
   ]
  },
  {
   "cell_type": "code",
   "execution_count": 92,
   "id": "4df7cafb",
   "metadata": {},
   "outputs": [],
   "source": [
    "dict_loan = {    \n",
    "\"rank\" : np.arange(1, len(x_axis)+1),\n",
    "\"reason\" : x_axis,\n",
    "\"freq\" : y_axis\n",
    " }"
   ]
  },
  {
   "cell_type": "code",
   "execution_count": 93,
   "id": "9dd00407",
   "metadata": {},
   "outputs": [],
   "source": [
    "df_loan = pd.DataFrame(dict_loan)"
   ]
  },
  {
   "cell_type": "code",
   "execution_count": 94,
   "id": "db4bb09e",
   "metadata": {
    "scrolled": true
   },
   "outputs": [
    {
     "data": {
      "text/html": [
       "<div>\n",
       "<style scoped>\n",
       "    .dataframe tbody tr th:only-of-type {\n",
       "        vertical-align: middle;\n",
       "    }\n",
       "\n",
       "    .dataframe tbody tr th {\n",
       "        vertical-align: top;\n",
       "    }\n",
       "\n",
       "    .dataframe thead th {\n",
       "        text-align: right;\n",
       "    }\n",
       "</style>\n",
       "<table border=\"1\" class=\"dataframe\">\n",
       "  <thead>\n",
       "    <tr style=\"text-align: right;\">\n",
       "      <th></th>\n",
       "      <th>rank</th>\n",
       "      <th>reason</th>\n",
       "      <th>freq</th>\n",
       "    </tr>\n",
       "  </thead>\n",
       "  <tbody>\n",
       "    <tr>\n",
       "      <th>0</th>\n",
       "      <td>1</td>\n",
       "      <td>debt_consolidation</td>\n",
       "      <td>18641</td>\n",
       "    </tr>\n",
       "    <tr>\n",
       "      <th>1</th>\n",
       "      <td>2</td>\n",
       "      <td>credit_card</td>\n",
       "      <td>5130</td>\n",
       "    </tr>\n",
       "    <tr>\n",
       "      <th>2</th>\n",
       "      <td>3</td>\n",
       "      <td>other</td>\n",
       "      <td>3993</td>\n",
       "    </tr>\n",
       "    <tr>\n",
       "      <th>3</th>\n",
       "      <td>4</td>\n",
       "      <td>home_improvement</td>\n",
       "      <td>2976</td>\n",
       "    </tr>\n",
       "    <tr>\n",
       "      <th>4</th>\n",
       "      <td>5</td>\n",
       "      <td>major_purchase</td>\n",
       "      <td>2187</td>\n",
       "    </tr>\n",
       "    <tr>\n",
       "      <th>5</th>\n",
       "      <td>6</td>\n",
       "      <td>small_business</td>\n",
       "      <td>1828</td>\n",
       "    </tr>\n",
       "    <tr>\n",
       "      <th>6</th>\n",
       "      <td>7</td>\n",
       "      <td>car</td>\n",
       "      <td>1549</td>\n",
       "    </tr>\n",
       "    <tr>\n",
       "      <th>7</th>\n",
       "      <td>8</td>\n",
       "      <td>wedding</td>\n",
       "      <td>947</td>\n",
       "    </tr>\n",
       "    <tr>\n",
       "      <th>8</th>\n",
       "      <td>9</td>\n",
       "      <td>medical</td>\n",
       "      <td>693</td>\n",
       "    </tr>\n",
       "    <tr>\n",
       "      <th>9</th>\n",
       "      <td>10</td>\n",
       "      <td>moving</td>\n",
       "      <td>583</td>\n",
       "    </tr>\n",
       "    <tr>\n",
       "      <th>10</th>\n",
       "      <td>11</td>\n",
       "      <td>vacation</td>\n",
       "      <td>381</td>\n",
       "    </tr>\n",
       "    <tr>\n",
       "      <th>11</th>\n",
       "      <td>12</td>\n",
       "      <td>house</td>\n",
       "      <td>381</td>\n",
       "    </tr>\n",
       "    <tr>\n",
       "      <th>12</th>\n",
       "      <td>13</td>\n",
       "      <td>educational</td>\n",
       "      <td>325</td>\n",
       "    </tr>\n",
       "    <tr>\n",
       "      <th>13</th>\n",
       "      <td>14</td>\n",
       "      <td>renewable_energy</td>\n",
       "      <td>103</td>\n",
       "    </tr>\n",
       "  </tbody>\n",
       "</table>\n",
       "</div>"
      ],
      "text/plain": [
       "    rank              reason   freq\n",
       "0      1  debt_consolidation  18641\n",
       "1      2         credit_card   5130\n",
       "2      3               other   3993\n",
       "3      4    home_improvement   2976\n",
       "4      5      major_purchase   2187\n",
       "5      6      small_business   1828\n",
       "6      7                 car   1549\n",
       "7      8             wedding    947\n",
       "8      9             medical    693\n",
       "9     10              moving    583\n",
       "10    11            vacation    381\n",
       "11    12               house    381\n",
       "12    13         educational    325\n",
       "13    14    renewable_energy    103"
      ]
     },
     "execution_count": 94,
     "metadata": {},
     "output_type": "execute_result"
    }
   ],
   "source": [
    "df_loan"
   ]
  },
  {
   "cell_type": "code",
   "execution_count": 109,
   "id": "5e9fc76b",
   "metadata": {},
   "outputs": [],
   "source": [
    "yticks = [10, 100, 1000, 10000, 100000]\n",
    "ylabels = [\"10\", \"100\", \"1K\", \"10K\", \"100K\"]\n",
    "xticks = [10, 100]\n",
    "xlabels = [\"10\", \"100\"]"
   ]
  },
  {
   "cell_type": "code",
   "execution_count": 110,
   "id": "08f4c157",
   "metadata": {},
   "outputs": [
    {
     "data": {
      "image/png": "[encoded data removed]",
      "text/plain": [
       "<Figure size 640x480 with 1 Axes>"
      ]
     },
     "metadata": {},
     "output_type": "display_data"
    }
   ],
   "source": [
    "plt.style.use(\"default\")\n",
    "plt.plot(df_loan[\"rank\"], df_loan[\"freq\"])\n",
    "plt.xscale('log')\n",
    "plt.yscale('log')\n",
    "plt.xlabel(\"Rank\")\n",
    "plt.ylabel(\"Freq\")\n",
    "plt.xticks(xticks,xlabels)\n",
    "plt.yticks(yticks,ylabels)\n",
    "plt.grid(True)\n",
    "plt.tight_layout()\n",
    "plt.show()"
   ]
  },
  {
   "cell_type": "markdown",
   "id": "4da2b4c2",
   "metadata": {},
   "source": [
    "<h2> <span style=\"font-family:Times New Roman\"> <span style=\"color:Brown\"> ORDERED CATEGORICAL VARIABLES </span> </span> </h2>"
   ]
  },
  {
   "cell_type": "code",
   "execution_count": null,
   "id": "16aaf5cc",
   "metadata": {},
   "outputs": [],
   "source": []
  },
  {
   "cell_type": "code",
   "execution_count": null,
   "id": "ff32c6f0",
   "metadata": {},
   "outputs": [],
   "source": []
  },
  {
   "cell_type": "markdown",
   "id": "b853ae99",
   "metadata": {},
   "source": [
    "<h2> <span style=\"font-family:Times New Roman\"> <span style=\"color:Brown\"> QUANTITATIVE VARIABLES </span> </span> </h2>"
   ]
  },
  {
   "cell_type": "code",
   "execution_count": null,
   "id": "167eff17",
   "metadata": {},
   "outputs": [],
   "source": []
  },
  {
   "cell_type": "code",
   "execution_count": null,
   "id": "731d8d0c",
   "metadata": {},
   "outputs": [],
   "source": []
  },
  {
   "cell_type": "markdown",
   "id": "c66933d0",
   "metadata": {},
   "source": [
    "<h1> <span style=\"font-family:Times New Roman\"> <span style=\"color:Green\"> SEGMENTED UNIVARIATE ANALYSIS </span> </span> </h1>"
   ]
  },
  {
   "cell_type": "code",
   "execution_count": null,
   "id": "fbe6b313",
   "metadata": {},
   "outputs": [],
   "source": []
  },
  {
   "cell_type": "code",
   "execution_count": null,
   "id": "d909c28f",
   "metadata": {},
   "outputs": [],
   "source": []
  },
  {
   "cell_type": "code",
   "execution_count": null,
   "id": "43621304",
   "metadata": {},
   "outputs": [],
   "source": []
  },
  {
   "cell_type": "code",
   "execution_count": null,
   "id": "6c64f7e2",
   "metadata": {},
   "outputs": [],
   "source": []
  },
  {
   "cell_type": "markdown",
   "id": "4d513901",
   "metadata": {},
   "source": [
    "<h1> <span style=\"font-family:Times New Roman\"> <span style=\"color:Green\"> BIVARIATE ANALYSIS </span> </span> </h1>"
   ]
  },
  {
   "cell_type": "code",
   "execution_count": null,
   "id": "6bfe4f3e",
   "metadata": {},
   "outputs": [],
   "source": []
  },
  {
   "cell_type": "code",
   "execution_count": null,
   "id": "c7d8a9a8",
   "metadata": {},
   "outputs": [],
   "source": []
  },
  {
   "cell_type": "code",
   "execution_count": null,
   "id": "e0ca71d2",
   "metadata": {},
   "outputs": [],
   "source": []
  },
  {
   "cell_type": "code",
   "execution_count": null,
   "id": "0981bf4a",
   "metadata": {},
   "outputs": [],
   "source": []
  },
  {
   "cell_type": "markdown",
   "id": "d0b7d02d",
   "metadata": {},
   "source": [
    "<h2> <span style=\"font-family:Times New Roman\"> <span style=\"color:Brown\"> DERIVED MATRICS </span> </span> </h2>"
   ]
  },
  {
   "cell_type": "markdown",
   "id": "d2af3d34",
   "metadata": {},
   "source": [
    "<h3 style = \"color : darkblue\"> issue_d </h3>"
   ]
  },
  {
   "cell_type": "code",
   "execution_count": 56,
   "id": "d86ad165",
   "metadata": {},
   "outputs": [
    {
     "data": {
      "text/plain": [
       "dtype('O')"
      ]
     },
     "execution_count": 56,
     "metadata": {},
     "output_type": "execute_result"
    }
   ],
   "source": [
    "df[\"issue_d\"].dtype"
   ]
  },
  {
   "cell_type": "code",
   "execution_count": 57,
   "id": "7af2fae9",
   "metadata": {
    "scrolled": true
   },
   "outputs": [
    {
     "data": {
      "text/plain": [
       "array(['Dec-11', 'Nov-11', 'Oct-11', 'Sep-11', 'Aug-11', 'Jul-11',\n",
       "       'Jun-11', 'May-11', 'Apr-11', 'Mar-11', 'Feb-11', 'Jan-11',\n",
       "       'Dec-10', 'Nov-10', 'Oct-10', 'Sep-10', 'Aug-10', 'Jul-10',\n",
       "       'Jun-10', 'May-10', 'Apr-10', 'Mar-10', 'Feb-10', 'Jan-10',\n",
       "       'Dec-09', 'Nov-09', 'Oct-09', 'Sep-09', 'Aug-09', 'Jul-09',\n",
       "       'Jun-09', 'May-09', 'Apr-09', 'Mar-09', 'Feb-09', 'Jan-09',\n",
       "       'Dec-08', 'Nov-08', 'Oct-08', 'Sep-08', 'Aug-08', 'Jul-08',\n",
       "       'Jun-08', 'May-08', 'Apr-08', 'Mar-08', 'Feb-08', 'Jan-08',\n",
       "       'Dec-07', 'Nov-07', 'Oct-07', 'Sep-07', 'Aug-07', 'Jul-07',\n",
       "       'Jun-07'], dtype=object)"
      ]
     },
     "execution_count": 57,
     "metadata": {},
     "output_type": "execute_result"
    }
   ],
   "source": [
    "df[\"issue_d\"].unique()"
   ]
  },
  {
   "cell_type": "code",
   "execution_count": 58,
   "id": "864f341d",
   "metadata": {},
   "outputs": [],
   "source": [
    "df[\"issued_month\"] = df[\"issue_d\"].apply(lambda x: x.split('-')[0])\n",
    "df[\"issued_year\"] = df[\"issue_d\"].apply(lambda x: int(x.split('-')[1]))\n",
    "df.drop(\"issue_d\", axis=1, inplace=True)"
   ]
  }
 ],
 "metadata": {
  "kernelspec": {
   "display_name": "Python 3 (ipykernel)",
   "language": "python",
   "name": "python3"
  },
  "language_info": {
   "codemirror_mode": {
    "name": "ipython",
    "version": 3
   },
   "file_extension": ".py",
   "mimetype": "text/x-python",
   "name": "python",
   "nbconvert_exporter": "python",
   "pygments_lexer": "ipython3",
   "version": "3.9.7"
  }
 },
 "nbformat": 4,
 "nbformat_minor": 5
}
